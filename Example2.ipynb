{
 "metadata": {
  "language_info": {
   "codemirror_mode": {
    "name": "ipython",
    "version": 3
   },
   "file_extension": ".py",
   "mimetype": "text/x-python",
   "name": "python",
   "nbconvert_exporter": "python",
   "pygments_lexer": "ipython3",
   "version": 3
  },
  "orig_nbformat": 4
 },
 "nbformat": 4,
 "nbformat_minor": 2,
 "cells": [
  {
   "source": [
    "## Creating a Model From Scratch ##\n",
    "\n",
    "This example shows creating an EzMetadataModel from scratch and using the low level EzMetadataEntry as the basis."
   ],
   "cell_type": "markdown",
   "metadata": {}
  },
  {
   "cell_type": "code",
   "execution_count": null,
   "metadata": {},
   "outputs": [],
   "source": [
    "from genericpath import exists\n",
    "from ezmodel.ezmetadataentry import EzMetadataEntry\n",
    "from ezmodel.ezmetadatamodel import EzMetadataModel\n",
    "from parsers.ang import parse_header_as_dict\n",
    "\n",
    "from ht_requests.ht_requests import ht_utilities\n",
    "from ht_requests.ht_requests import htauthcontroller\n",
    "from ht_requests.ht_requests import ht_requests\n",
    "\n",
    "import json\n",
    "from typing import List"
   ]
  },
  {
   "source": [
    "## Creating a Test Model ##\n",
    "\n",
    "We are going to create a test *model* in order to show how to build up an **EzMetadataModel** from scratch and then use that model as the basis for the meta data that gets tagged onto our uploaded data file. At the end of the code we write out the **model** to a template file.\n"
   ],
   "cell_type": "markdown",
   "metadata": {}
  },
  {
   "cell_type": "code",
   "execution_count": null,
   "metadata": {},
   "outputs": [],
   "source": [
    "unit_test_model = EzMetadataModel()\n",
    "# Grab a \"Source.FILE\" from the ANG model\n",
    "# unit_test_model.append(model.entries[0])\n",
    "\n",
    "# Override the Source Value and set a new one\n",
    "entry = model.entries[1]\n",
    "entry.override_source_value = True\n",
    "entry.ht_value = \"HT Overridden Value\"\n",
    "entry.enabled = True\n",
    "unit_test_model.append(entry)\n",
    "\n",
    "# Override the HT_Name with a new one\n",
    "entry = model.entries[2]\n",
    "entry.ht_name = \"Custom HT Name\"\n",
    "entry.ht_annotation = \"Overridden y-star HT Name\"\n",
    "unit_test_model.append(entry)\n",
    "\n",
    "# Override the HT_Name with a new one\n",
    "entry = model.entries[3]\n",
    "entry.ht_name = \"Custom HT Name\"\n",
    "entry.ht_value = \"HT Overridden Value\"\n",
    "entry.ht_annotation = \"Overridden z-star HT Name and Value. Really should be just a 'custom' entry\"\n",
    "unit_test_model.append(entry)\n",
    "\n",
    "# Create a Custom Entry\n",
    "custom = EzMetadataEntry()\n",
    "custom.source_type = EzMetadataEntry.SourceType.CUSTOM\n",
    "custom.ht_name = \"Facility\"\n",
    "custom.ht_value = \"BQ\"\n",
    "custom.ht_annotation = \"Custom Template Value\"\n",
    "custom.enabled = True\n",
    "custom.override_source_value = False\n",
    "unit_test_model.append(custom)\n",
    "\n",
    "# Write the EzMetadataModel to the json file\n",
    "unit_test_model.to_json_file('/tmp/test_template.ez')"
   ]
  }
 ]
}