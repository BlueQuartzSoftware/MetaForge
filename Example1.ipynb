{
 "metadata": {
  "language_info": {
   "codemirror_mode": {
    "name": "ipython",
    "version": 3
   },
   "file_extension": ".py",
   "mimetype": "text/x-python",
   "name": "python",
   "nbconvert_exporter": "python",
   "pygments_lexer": "ipython3",
   "version": "3.8.10"
  },
  "orig_nbformat": 4,
  "kernelspec": {
   "name": "python3",
   "display_name": "Python 3.8.10 64-bit ('easybake': conda)"
  },
  "interpreter": {
   "hash": "400a15d095c06a06bfe9035e3cb876f8126a9656d7331503520ed3c6b4b36b3a"
  }
 },
 "nbformat": 4,
 "nbformat_minor": 2,
 "cells": [
  {
   "source": [
    "Docs"
   ],
   "cell_type": "markdown",
   "metadata": {}
  },
  {
   "cell_type": "code",
   "execution_count": null,
   "metadata": {},
   "outputs": [],
   "source": [
    "from genericpath import exists\n",
    "from ezmodel.ezmetadataentry import EzMetadataEntry\n",
    "from ezmodel.ezmetadatamodel import EzMetadataModel\n",
    "from parsers.ang import parse_header_as_dict\n",
    "\n",
    "from ht_requests.ht_requests import ht_utilities\n",
    "from ht_requests.ht_requests import htauthcontroller\n",
    "from ht_requests.ht_requests import ht_requests\n",
    "\n",
    "import json\n",
    "from typing import List\n",
    "\n"
   ]
  },
  {
   "source": [
    "## Loading and Existing MetaForge Template ##\n",
    "\n",
    "We are going to use an existing EBSD 2 Phase template located in the \"example_templates\" folder and load that into memory using the \"from_json_file()\" function."
   ],
   "cell_type": "markdown",
   "metadata": {}
  },
  {
   "cell_type": "code",
   "execution_count": null,
   "metadata": {},
   "outputs": [],
   "source": [
    "\n",
    "\n",
    "# Set teh path of the file to store the JSON of the model\n",
    "ez_file_path = 'example_templates/MultiPhase.ez'\n",
    "\n",
    "# Read the EzMetadataModel from the json file\n",
    "model = EzMetadataModel.from_json_file(ez_file_path)\n"
   ]
  },
  {
   "source": [
    "## Loading an ANG Dictionary from an existing Data file ##\n",
    "\n",
    "We now want to load a data file whose values will be extracted and used as the meta data that gets uploaded and tagged onto the uploaded data file. "
   ],
   "cell_type": "markdown",
   "metadata": {}
  },
  {
   "cell_type": "code",
   "execution_count": null,
   "metadata": {},
   "outputs": [],
   "source": [
    "# Set the path of the data file to use to build the EzMetadataModel\n",
    "data_file_path = '/Volumes/970-1/Data/Ang_Data/12_strain/Scan_10074.ang'\n",
    "\n",
    "# Convert the ANG file into a dictionary\n",
    "ang_dict = parse_header_as_dict(data_file_path)"
   ]
  },
  {
   "source": [
    "Now we might want to sync the template with the actual ANG data that just got read from the .ang file. This can be important if you want to error out because template values were defined in the template but are *not* available in the actual data file. This can happen for instance if the template extracts data from multiple phases but the data file only has a single phase. In this code we simply print what is missing but proceed on. In real life you would probably want to error check or return early."
   ],
   "cell_type": "markdown",
   "metadata": {}
  },
  {
   "cell_type": "code",
   "execution_count": null,
   "metadata": {},
   "outputs": [],
   "source": [
    "# Sync the the EzMetadataModel from the ANG header dictionary\n",
    "missing_entries: List[EzMetadataEntry] = model.update_model_values_from_dict(ang_dict)\n",
    "if len(missing_entries) != 0:\n",
    "  print('Not all values that appear in the Template file were in the input data file.')\n",
    "  for e in missing_entries:\n",
    "    print(f'{e.source_path}')"
   ]
  },
  {
   "source": [
    "## Interacting with HyperThought ##\n",
    "\n",
    "Now that we have setup our in memory template and verified our model is correct, we need to authenticate to HyperThought. We do this by creating an **auth_control** variable through the use of the *htauthcontroller* class.\n",
    "\n",
    "**NOTE TO THE USER**\n",
    "The access key used here is stale. You will need to go get a new Access Key from your HyperThought website."
   ],
   "cell_type": "markdown",
   "metadata": {}
  },
  {
   "cell_type": "code",
   "execution_count": null,
   "metadata": {},
   "outputs": [],
   "source": [
    "# Use the template to upload to HyperThought\n",
    "# Set your API Access Key which you would get from HyperThought Web site\n",
    "accessKey = 'eyJhY2Nlc3NUb2tlbiI6ICIzZGIyYzI1YjQ4NzE0NTMwODRkN2JjN2IyNzM4ZTAzMyIsICJyZWZyZXNoVG9rZW4iOiAiYzU2YzFjYjhiNzcwNGEyYTgwOWIxYjM0OTQyNTU1YzkiLCAiZXhwaXJlc0luIjogMzU5OSwgImV4cGlyZXNBdCI6ICIyMDIxLTA2LTI4VDE0OjE5OjU0LjY4NTAyMC0wNDowMCIsICJiYXNlVXJsIjogImh0dHBzOi8vaHQuYmx1ZXF1YXJ0ei5uZXQiLCAiY2xpZW50SWQiOiAiMDg3NzYwIiwgImNsaWVudFNlY3JldCI6ICIyYzMyYWJmMjAwZWRhNzE5MTQ0MTNmMmExMDUxOWJiNGMwMzFmZmI4MTk2MDQ0OTk1ZTg4MTllYyJ9'\n",
    "\n",
    "# Create an HtAuthController to hold the API key\n",
    "auth_control = htauthcontroller.HTAuthorizationController(accessKey)\n",
    "\n",
    "# Upload to a folder created at the root level.\n",
    "path = \",\"\n",
    "\n",
    "# Set the remote directory to create. This DOES NOT check if that folder already exists\n",
    "remoteDirPath = \"Unit_Test\"\n",
    "\n",
    "\n",
    "# Get a list of the projects that the user has access to.\n",
    "projects_list = ht_requests.list_projects(auth_control)\n"
   ]
  },
  {
   "cell_type": "code",
   "execution_count": null,
   "metadata": {},
   "outputs": [],
   "source": [
    "\n",
    "# Print the project names {Optional}\n",
    "for pj in projects_list:\n",
    "    print(f'{pj[\"content\"][\"title\"]}')"
   ]
  },
  {
   "cell_type": "code",
   "execution_count": null,
   "metadata": {},
   "outputs": [],
   "source": [
    "# Look for a specific project by *Project Title*\n",
    "project_title = 'Project X-Caliber'\n",
    "project_exists = False\n",
    "project_json = {}\n",
    "project_pk = \"\"\n",
    "for pj in projects_list:\n",
    "    if pj[\"content\"][\"title\"] == project_title:\n",
    "        project_exists = True\n",
    "        project_json = pj\n",
    "        project_pk = project_json[\"content\"][\"pk\"]\n",
    "\n",
    "# Check to make sure we found the Project. In REAL LIFE you would probably error out at this point if the\n",
    "# project was not found.\n",
    "if project_exists == False:\n",
    "    print(f'The requested project \"{project_title}\" does not exist')\n"
   ]
  },
  {
   "cell_type": "code",
   "execution_count": null,
   "metadata": {},
   "outputs": [],
   "source": [
    "# Get the file/folder list from the project listed in the previous code\n",
    "project_folder_list = ht_requests.get_item_dict_from_ht_path(auth_control, \n",
    "              ht_path='/',\n",
    "              ht_space = 'project',\n",
    "              ht_space_id=project_pk)\n",
    "\n",
    "# Print the list of folders/files inside the project of interest [Optional]\n",
    "for pf in project_folder_list:\n",
    "    print(pf)\n",
    "\n",
    "\n",
    "\n",
    "# folderlist = ht_requests._list_location_contents(auth_control, ht_id_path = path)\n",
    "# for j in folderlist:\n",
    "#   print(f'{j[\"content\"]}')\n",
    "\n"
   ]
  },
  {
   "cell_type": "code",
   "execution_count": null,
   "metadata": {},
   "outputs": [],
   "source": [
    "# Set the remote directory to create.\n",
    "remote_exists = False\n",
    "remoteDirPath = \"Unit_Test\"\n",
    "remote_folder_uuid = \"\"\n",
    "print(\"Checking if remote folder {remoteDirPath} exists\")\n",
    "for f in project_folder_list:\n",
    "    print(f)\n",
    "    if f[\"Name\"] is remoteDirPath:\n",
    "        remote_exists = True\n",
    "        remote_folder_uuid = f[\"UUID\"]\n",
    "        print(f'name: {f[\"Name\"]}  UUID: {f[\"UUID\"]}')\n",
    "  \n",
    "if not remote_exists:\n",
    "    print(\"Remote Folder does not exist.. creating remote folder {remoteDirPath}\")\n",
    "    ht_id_path = ht_requests.get_ht_id_path_from_ht_path(auth_control, \n",
    "                        ht_path = '/',\n",
    "                        ht_space = 'project',\n",
    "                        ht_space_id=project_pk\n",
    "                        )\n",
    "\n",
    "\n",
    "    folder_id = ht_requests.create_folder(auth_control,\n",
    "                folder_name = remoteDirPath,  \n",
    "                ht_space = 'project',\n",
    "                ht_space_id = project_pk,\n",
    "                ht_id_path= ht_id_path)\n",
    "\n",
    "    # Get the file/folder list from the project listed in the previous code [Optional]\n",
    "    # This part is optional but probably necessary in real life to sanity check that the\n",
    "    # requested directory was created.\n",
    "    project_folder_list = ht_requests.get_item_dict_from_ht_path(auth_control, \n",
    "                ht_path='/',\n",
    "                ht_space = 'project',\n",
    "                ht_space_id=project_pk)\n",
    "\n",
    "    # Print the list of folders/files inside the project of interest [Optional]\n",
    "    for pf in project_folder_list:\n",
    "        print(pf)\n"
   ]
  },
  {
   "source": [
    "## Uploading Data Files with MetaData ##\n",
    "\n",
    "We are going to upload a data file with Meta-Data extracted from a given Data file using a give template."
   ],
   "cell_type": "markdown",
   "metadata": {}
  },
  {
   "cell_type": "code",
   "execution_count": null,
   "metadata": {},
   "outputs": [],
   "source": [
    "# Extract the Meta-Data from the Template/Model\n",
    "missing_entries = []\n",
    "metadata = ht_utilities.ezmodel_to_ht_metadata(model=model, missing_entries=missing_entries)\n",
    "\n",
    "# Pick your data files to upload\n",
    "filelist = \"/Users/mjackson/Downloads/011.ang\"\n",
    "\n",
    "# get the UUID of the new folder\n",
    "folderuuid = ht_requests.get_ht_id_path_from_ht_path(auth_control, \n",
    "                                    ht_path=remoteDirPath, \n",
    "                                    ht_space = 'project', \n",
    "                                    ht_space_id=project_pk)\n",
    "        \n",
    "\n",
    "# Perform the upload.\n",
    "file_id, file_name = ht_requests.upload_file(auth_control=auth_control, \n",
    "                                            local_path=filelist,\n",
    "                                            ht_space='project',\n",
    "                                            ht_space_id=project_pk,\n",
    "                                            ht_id_path=folderuuid, \n",
    "                                            metadata=metadata)\n",
    "print(f'{file_name}: {file_id}')\n",
    "print(\"Upload completed\")\n"
   ]
  },
  {
   "cell_type": "code",
   "execution_count": null,
   "metadata": {},
   "outputs": [],
   "source": []
  }
 ]
}