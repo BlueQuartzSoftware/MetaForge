{
 "cells": [
  {
   "attachments": {},
   "cell_type": "markdown",
   "metadata": {},
   "source": [
    "Docs"
   ]
  },
  {
   "cell_type": "code",
   "execution_count": 1,
   "metadata": {},
   "outputs": [],
   "source": [
    "from metaforge.models.metadataentry import MetadataEntry\n",
    "from metaforge.models.metadatamodel import MetadataModel\n",
    "from metaforge.parsers.ang_parser import AngParser\n",
    "\n",
    "import metaforge.utilities.ht_utilities\n",
    "\n",
    "from pathlib import Path\n",
    "from typing import List\n",
    "import hyperthought as ht"
   ]
  },
  {
   "attachments": {},
   "cell_type": "markdown",
   "metadata": {},
   "source": [
    "## Loading and Existing MetaForge Template ##\n",
    "\n",
    "We are going to use an existing EBSD 2 Phase template located in the \"example_templates\" folder and load that into memory using the \"from_json_file()\" function."
   ]
  },
  {
   "cell_type": "code",
   "execution_count": 4,
   "metadata": {},
   "outputs": [],
   "source": [
    "# Set teh path of the file to store the JSON of the model\n",
    "ez_file_path = Path('../example_templates/MultiPhase.ez')\n",
    "\n",
    "# Read the MetadataModel from the json file\n",
    "model = MetadataModel.from_json_file(str(ez_file_path.absolute()))"
   ]
  },
  {
   "attachments": {},
   "cell_type": "markdown",
   "metadata": {},
   "source": [
    "## Loading an ANG Dictionary from an existing Data file ##\n",
    "\n",
    "We now want to load a data file whose values will be extracted and used as the meta data that gets uploaded and tagged onto the uploaded data file. "
   ]
  },
  {
   "cell_type": "code",
   "execution_count": 6,
   "metadata": {},
   "outputs": [],
   "source": [
    "# Set the path of the data file to use to build the MetadataModel\n",
    "data_prefix = '/Users/Shared/DREAM3D_SDK/'\n",
    "data_file_path = Path(f'{data_prefix}/DREAM3D_Data/Data/SmallIN100/Slice_1.ang')\n",
    "\n",
    "# Convert the ANG file into a list of metadata entries\n",
    "ang_parser = AngParser()\n",
    "metadata_list = ang_parser.parse_header(data_file_path)"
   ]
  },
  {
   "attachments": {},
   "cell_type": "markdown",
   "metadata": {},
   "source": [
    "Now we might want to sync the template with the actual ANG data that just got read from the .ang file. This can be important if you want to error out because template values were defined in the template but are *not* available in the actual data file. This can happen for instance if the template extracts data from multiple phases but the data file only has a single phase. In this code we simply print what is missing but proceed on. In real life you would probably want to error check or return early."
   ]
  },
  {
   "cell_type": "code",
   "execution_count": 7,
   "metadata": {},
   "outputs": [
    {
     "name": "stdout",
     "output_type": "stream",
     "text": [
      "Not all values that appear in the Template file were in the input data file.\n",
      "SOURCE/Phases/Phase 2/MaterialName\n",
      "SOURCE/Phases/Phase 2/Formula\n",
      "SOURCE/Phases/Phase 2/Symmetry\n"
     ]
    }
   ],
   "source": [
    "# Sync the the MetadataModel from the ANG header dictionary\n",
    "missing_entries: List[MetadataEntry] = model.update_model_values(metadata_list)\n",
    "if len(missing_entries) != 0:\n",
    "  print('Not all values that appear in the Template file were in the input data file.')\n",
    "  for e in missing_entries:\n",
    "    print(f'{e.source_path}')"
   ]
  },
  {
   "attachments": {},
   "cell_type": "markdown",
   "metadata": {},
   "source": [
    "## Interacting with HyperThought ##\n",
    "\n",
    "Now that we have setup our in memory template and verified our model is correct, we need to authenticate to HyperThought. We do this by creating an **auth_control** variable through the use of the *htauthcontroller* class.\n",
    "\n",
    "**NOTE TO THE USER**\n",
    "The access key used here is stale. You will need to go get a new Access Key from your HyperThought website."
   ]
  },
  {
   "cell_type": "code",
   "execution_count": 8,
   "metadata": {},
   "outputs": [
    {
     "name": "stderr",
     "output_type": "stream",
     "text": [
      "/var/folders/cr/cwpm9_rj1m7fz04ppx5v0dwh0000gq/T/ipykernel_64980/3448695283.py:6: DeprecationWarning: Authorization is deprecated. Use TokenAuthentication instead.\n",
      "  auth_control = ht.auth.Authorization(accessKey, verify=False)\n"
     ]
    }
   ],
   "source": [
    "# Use the template to upload to HyperThought\n",
    "# Set your API Access Key which you would get from HyperThought Web site\n",
    "accessKey = ''\n",
    "\n",
    "# Create an ht.auth.Authorization to hold the API key, and create WorkspacesAPI and FilesAPI objects\n",
    "auth_control = ht.auth.Authorization(accessKey, verify=False)\n",
    "workspaces_api = ht.api.workspaces.WorkspacesAPI(auth_control)\n",
    "files_api = ht.api.files.FilesAPI(auth_control)\n",
    "\n",
    "# Upload to a folder created at the root level.\n",
    "path = \",\"\n",
    "\n",
    "# Set the remote directory to create. This DOES NOT check if that folder already exists\n",
    "remoteDirPath = \"Unit_Test\"\n",
    "\n",
    "\n",
    "# Get a list of the projects that the user has access to.\n",
    "workspaces_list = workspaces_api.get_workspaces()"
   ]
  },
  {
   "cell_type": "code",
   "execution_count": 9,
   "metadata": {},
   "outputs": [
    {
     "name": "stdout",
     "output_type": "stream",
     "text": [
      "Project X-Caliber\n",
      "joeykleingers\n",
      "TestProject\n",
      "BlueQuartz\n",
      "Project 1\n",
      "Workspace1\n"
     ]
    }
   ],
   "source": [
    "# Print the workspace names {Optional}\n",
    "for workspace in workspaces_list:\n",
    "    print(f'{workspace[\"name\"]}')"
   ]
  },
  {
   "cell_type": "code",
   "execution_count": 10,
   "metadata": {},
   "outputs": [],
   "source": [
    "# Look for a specific workspace by *Workspace Title*\n",
    "workspace_title = 'Project X-Caliber'\n",
    "workspace_exists = False\n",
    "workspace_json = {}\n",
    "workspace_id = \"\"\n",
    "for workspace in workspaces_list:\n",
    "    if workspace[\"name\"] == workspace_title:\n",
    "        workspace_exists = True\n",
    "        workspace_json = workspace\n",
    "        workspace_id = workspace_json[\"id\"]\n",
    "\n",
    "# Check to make sure we found the Project. In REAL LIFE you would probably error out at this point if the\n",
    "# project was not found.\n",
    "if workspace_exists == False:\n",
    "    print(f'The requested workspace \"{workspace_title}\" does not exist')"
   ]
  },
  {
   "cell_type": "code",
   "execution_count": 11,
   "metadata": {},
   "outputs": [
    {
     "name": "stdout",
     "output_type": "stream",
     "text": [
      "{'name': 'Another Folder in Project', 'ftype': 'Folder', 'path': ',', 'path_string': '/Another Folder in Project/', 'size': 339522514, 'items': 12, 'pk': 'b39dd8fd-cc7d-4a13-8f80-551ff19d542c', 'metadata': [], 'pid': 'd1d794ee-b0dd-409c-affe-1feb003bf853', 'distributionLevel': 'Distribution A', 'exportControl': '', 'canonicalUri': '/files/filesystementry/b39dd8fd-cc7d-4a13-8f80-551ff19d542c', 'workspaceName': 'Project X-Caliber', 'createdOn': '2021-06-24T14:39:57.067881-04:00', 'createdBy': 'Mike Jackson', 'modifiedOn': '2021-06-24T14:39:57.067881-04:00', 'modifiedBy': 'Mike Jackson', 'resources': {'id': '/api/files/v1/b39dd8fd-cc7d-4a13-8f80-551ff19d542c/', 'pid': '/api/files/v1/pid/d1d794ee-b0dd-409c-affe-1feb003bf853/', 'workspace': '/api/workspace/285e6bc0-1fe2-4cc1-8585-417ab10973a0/', 'workspaceView': '/workspace/285e6bc0-1fe2-4cc1-8585-417ab10973a0/detail/', 'generateDownloadUrl': '/api/files/generate-download-url/?id=b39dd8fd-cc7d-4a13-8f80-551ff19d542c'}}\n",
      "{'name': 'First Folder in Project', 'ftype': 'Folder', 'path': ',', 'path_string': '/First Folder in Project/', 'size': 7147903, 'items': 3, 'pk': '9404aae3-6a3c-4518-8cda-921d49bd990c', 'metadata': [], 'pid': '91d317fd-2a2d-4487-985b-7136a5b3eabd', 'distributionLevel': 'Distribution A', 'exportControl': '', 'canonicalUri': '/files/filesystementry/9404aae3-6a3c-4518-8cda-921d49bd990c', 'workspaceName': 'Project X-Caliber', 'createdOn': '2021-06-24T14:39:48.22148-04:00', 'createdBy': 'Mike Jackson', 'modifiedOn': '2021-06-24T14:39:48.22148-04:00', 'modifiedBy': 'Mike Jackson', 'resources': {'id': '/api/files/v1/9404aae3-6a3c-4518-8cda-921d49bd990c/', 'pid': '/api/files/v1/pid/91d317fd-2a2d-4487-985b-7136a5b3eabd/', 'workspace': '/api/workspace/285e6bc0-1fe2-4cc1-8585-417ab10973a0/', 'workspaceView': '/workspace/285e6bc0-1fe2-4cc1-8585-417ab10973a0/detail/', 'generateDownloadUrl': '/api/files/generate-download-url/?id=9404aae3-6a3c-4518-8cda-921d49bd990c'}}\n",
      "{'name': 'New Folder', 'ftype': 'Folder', 'path': ',', 'path_string': '/New Folder/', 'size': 88199456, 'items': 4, 'pk': 'af2bb85a-c714-457f-aaf8-967162397d91', 'metadata': [], 'pid': '581e073e-5a29-4185-9391-376eee20983b', 'distributionLevel': 'Distribution A', 'exportControl': '', 'canonicalUri': '/files/filesystementry/af2bb85a-c714-457f-aaf8-967162397d91', 'workspaceName': 'Project X-Caliber', 'createdOn': '2021-06-25T12:15:31.641536-04:00', 'createdBy': 'Mike Jackson', 'modifiedOn': '2021-06-25T12:15:31.641536-04:00', 'modifiedBy': 'Mike Jackson', 'resources': {'id': '/api/files/v1/af2bb85a-c714-457f-aaf8-967162397d91/', 'pid': '/api/files/v1/pid/581e073e-5a29-4185-9391-376eee20983b/', 'workspace': '/api/workspace/285e6bc0-1fe2-4cc1-8585-417ab10973a0/', 'workspaceView': '/workspace/285e6bc0-1fe2-4cc1-8585-417ab10973a0/detail/', 'generateDownloadUrl': '/api/files/generate-download-url/?id=af2bb85a-c714-457f-aaf8-967162397d91'}}\n",
      "{'name': 'SmallIN100', 'ftype': 'Folder', 'path': ',', 'path_string': '/SmallIN100/', 'size': 6611617, 'items': 2, 'pk': '1aa9022b-b770-4dec-9fde-fbe982142b59', 'metadata': [], 'pid': '1d1db894-1e5b-4993-afd2-57e148efe4d8', 'distributionLevel': 'Distribution A', 'exportControl': '', 'canonicalUri': '/files/filesystementry/1aa9022b-b770-4dec-9fde-fbe982142b59', 'workspaceName': 'Project X-Caliber', 'createdOn': '2023-05-25T21:45:14.160093-04:00', 'createdBy': 'Joey Kleingers', 'modifiedOn': '2023-05-25T21:45:14.160093-04:00', 'modifiedBy': 'Joey Kleingers', 'resources': {'id': '/api/files/v1/1aa9022b-b770-4dec-9fde-fbe982142b59/', 'pid': '/api/files/v1/pid/1d1db894-1e5b-4993-afd2-57e148efe4d8/', 'workspace': '/api/workspace/285e6bc0-1fe2-4cc1-8585-417ab10973a0/', 'workspaceView': '/workspace/285e6bc0-1fe2-4cc1-8585-417ab10973a0/detail/', 'generateDownloadUrl': '/api/files/generate-download-url/?id=1aa9022b-b770-4dec-9fde-fbe982142b59'}}\n",
      "{'name': 'Unit_Test', 'ftype': 'Folder', 'path': ',', 'path_string': '/Unit_Test/', 'size': 10454268, 'items': 4, 'pk': '8d06f8aa-7759-4bf1-a357-d32170bf8a57', 'metadata': [], 'pid': '7fc61e92-73d4-49f8-87b4-e53241c7825d', 'distributionLevel': 'Distribution A', 'exportControl': '', 'canonicalUri': '/files/filesystementry/8d06f8aa-7759-4bf1-a357-d32170bf8a57', 'workspaceName': 'Project X-Caliber', 'createdOn': '2021-06-28T11:48:26.428518-04:00', 'createdBy': 'Mike Jackson', 'modifiedOn': '2021-06-28T11:48:26.428518-04:00', 'modifiedBy': 'Mike Jackson', 'resources': {'id': '/api/files/v1/8d06f8aa-7759-4bf1-a357-d32170bf8a57/', 'pid': '/api/files/v1/pid/7fc61e92-73d4-49f8-87b4-e53241c7825d/', 'workspace': '/api/workspace/285e6bc0-1fe2-4cc1-8585-417ab10973a0/', 'workspaceView': '/workspace/285e6bc0-1fe2-4cc1-8585-417ab10973a0/detail/', 'generateDownloadUrl': '/api/files/generate-download-url/?id=8d06f8aa-7759-4bf1-a357-d32170bf8a57'}}\n"
     ]
    }
   ],
   "source": [
    "# Get the file/folder list from the project listed in the previous code\n",
    "workspace_folder_list = files_api.get_from_location(space_id=workspace_id,\n",
    "                                                    path=',',\n",
    "                                                    file_type=ht.api.files.FilesAPI.FileType.FILES_AND_FOLDERS)\n",
    "\n",
    "# Print the list of folders/files inside the project of interest [Optional]\n",
    "for wf in workspace_folder_list:\n",
    "    print(wf)"
   ]
  },
  {
   "cell_type": "code",
   "execution_count": 13,
   "metadata": {},
   "outputs": [
    {
     "name": "stdout",
     "output_type": "stream",
     "text": [
      "Checking if remote folder Unit_Test exists\n",
      "{'name': 'Another Folder in Project', 'ftype': 'Folder', 'path': ',', 'path_string': '/Another Folder in Project/', 'size': 339522514, 'items': 12, 'pk': 'b39dd8fd-cc7d-4a13-8f80-551ff19d542c', 'metadata': [], 'pid': 'd1d794ee-b0dd-409c-affe-1feb003bf853', 'distributionLevel': 'Distribution A', 'exportControl': '', 'canonicalUri': '/files/filesystementry/b39dd8fd-cc7d-4a13-8f80-551ff19d542c', 'workspaceName': 'Project X-Caliber', 'createdOn': '2021-06-24T14:39:57.067881-04:00', 'createdBy': 'Mike Jackson', 'modifiedOn': '2021-06-24T14:39:57.067881-04:00', 'modifiedBy': 'Mike Jackson', 'resources': {'id': '/api/files/v1/b39dd8fd-cc7d-4a13-8f80-551ff19d542c/', 'pid': '/api/files/v1/pid/d1d794ee-b0dd-409c-affe-1feb003bf853/', 'workspace': '/api/workspace/285e6bc0-1fe2-4cc1-8585-417ab10973a0/', 'workspaceView': '/workspace/285e6bc0-1fe2-4cc1-8585-417ab10973a0/detail/', 'generateDownloadUrl': '/api/files/generate-download-url/?id=b39dd8fd-cc7d-4a13-8f80-551ff19d542c'}}\n",
      "{'name': 'First Folder in Project', 'ftype': 'Folder', 'path': ',', 'path_string': '/First Folder in Project/', 'size': 7147903, 'items': 3, 'pk': '9404aae3-6a3c-4518-8cda-921d49bd990c', 'metadata': [], 'pid': '91d317fd-2a2d-4487-985b-7136a5b3eabd', 'distributionLevel': 'Distribution A', 'exportControl': '', 'canonicalUri': '/files/filesystementry/9404aae3-6a3c-4518-8cda-921d49bd990c', 'workspaceName': 'Project X-Caliber', 'createdOn': '2021-06-24T14:39:48.22148-04:00', 'createdBy': 'Mike Jackson', 'modifiedOn': '2021-06-24T14:39:48.22148-04:00', 'modifiedBy': 'Mike Jackson', 'resources': {'id': '/api/files/v1/9404aae3-6a3c-4518-8cda-921d49bd990c/', 'pid': '/api/files/v1/pid/91d317fd-2a2d-4487-985b-7136a5b3eabd/', 'workspace': '/api/workspace/285e6bc0-1fe2-4cc1-8585-417ab10973a0/', 'workspaceView': '/workspace/285e6bc0-1fe2-4cc1-8585-417ab10973a0/detail/', 'generateDownloadUrl': '/api/files/generate-download-url/?id=9404aae3-6a3c-4518-8cda-921d49bd990c'}}\n",
      "{'name': 'New Folder', 'ftype': 'Folder', 'path': ',', 'path_string': '/New Folder/', 'size': 88199456, 'items': 4, 'pk': 'af2bb85a-c714-457f-aaf8-967162397d91', 'metadata': [], 'pid': '581e073e-5a29-4185-9391-376eee20983b', 'distributionLevel': 'Distribution A', 'exportControl': '', 'canonicalUri': '/files/filesystementry/af2bb85a-c714-457f-aaf8-967162397d91', 'workspaceName': 'Project X-Caliber', 'createdOn': '2021-06-25T12:15:31.641536-04:00', 'createdBy': 'Mike Jackson', 'modifiedOn': '2021-06-25T12:15:31.641536-04:00', 'modifiedBy': 'Mike Jackson', 'resources': {'id': '/api/files/v1/af2bb85a-c714-457f-aaf8-967162397d91/', 'pid': '/api/files/v1/pid/581e073e-5a29-4185-9391-376eee20983b/', 'workspace': '/api/workspace/285e6bc0-1fe2-4cc1-8585-417ab10973a0/', 'workspaceView': '/workspace/285e6bc0-1fe2-4cc1-8585-417ab10973a0/detail/', 'generateDownloadUrl': '/api/files/generate-download-url/?id=af2bb85a-c714-457f-aaf8-967162397d91'}}\n",
      "{'name': 'SmallIN100', 'ftype': 'Folder', 'path': ',', 'path_string': '/SmallIN100/', 'size': 6611617, 'items': 2, 'pk': '1aa9022b-b770-4dec-9fde-fbe982142b59', 'metadata': [], 'pid': '1d1db894-1e5b-4993-afd2-57e148efe4d8', 'distributionLevel': 'Distribution A', 'exportControl': '', 'canonicalUri': '/files/filesystementry/1aa9022b-b770-4dec-9fde-fbe982142b59', 'workspaceName': 'Project X-Caliber', 'createdOn': '2023-05-25T21:45:14.160093-04:00', 'createdBy': 'Joey Kleingers', 'modifiedOn': '2023-05-25T21:45:14.160093-04:00', 'modifiedBy': 'Joey Kleingers', 'resources': {'id': '/api/files/v1/1aa9022b-b770-4dec-9fde-fbe982142b59/', 'pid': '/api/files/v1/pid/1d1db894-1e5b-4993-afd2-57e148efe4d8/', 'workspace': '/api/workspace/285e6bc0-1fe2-4cc1-8585-417ab10973a0/', 'workspaceView': '/workspace/285e6bc0-1fe2-4cc1-8585-417ab10973a0/detail/', 'generateDownloadUrl': '/api/files/generate-download-url/?id=1aa9022b-b770-4dec-9fde-fbe982142b59'}}\n",
      "{'name': 'Unit_Test', 'ftype': 'Folder', 'path': ',', 'path_string': '/Unit_Test/', 'size': 10454268, 'items': 4, 'pk': '8d06f8aa-7759-4bf1-a357-d32170bf8a57', 'metadata': [], 'pid': '7fc61e92-73d4-49f8-87b4-e53241c7825d', 'distributionLevel': 'Distribution A', 'exportControl': '', 'canonicalUri': '/files/filesystementry/8d06f8aa-7759-4bf1-a357-d32170bf8a57', 'workspaceName': 'Project X-Caliber', 'createdOn': '2021-06-28T11:48:26.428518-04:00', 'createdBy': 'Mike Jackson', 'modifiedOn': '2021-06-28T11:48:26.428518-04:00', 'modifiedBy': 'Mike Jackson', 'resources': {'id': '/api/files/v1/8d06f8aa-7759-4bf1-a357-d32170bf8a57/', 'pid': '/api/files/v1/pid/7fc61e92-73d4-49f8-87b4-e53241c7825d/', 'workspace': '/api/workspace/285e6bc0-1fe2-4cc1-8585-417ab10973a0/', 'workspaceView': '/workspace/285e6bc0-1fe2-4cc1-8585-417ab10973a0/detail/', 'generateDownloadUrl': '/api/files/generate-download-url/?id=8d06f8aa-7759-4bf1-a357-d32170bf8a57'}}\n",
      "name: Unit_Test  UUID: 8d06f8aa-7759-4bf1-a357-d32170bf8a57\n"
     ]
    }
   ],
   "source": [
    "# Set the remote directory to create.\n",
    "remote_exists = False\n",
    "remote_folder_name = \"Unit_Test\"\n",
    "remote_folder_uuid = \"\"\n",
    "print(f\"Checking if remote folder {remote_folder_name} exists\")\n",
    "for f in workspace_folder_list:\n",
    "    print(f)\n",
    "    if f[\"name\"] == remote_folder_name:\n",
    "        remote_exists = True\n",
    "        remote_folder_uuid = f[\"pk\"]\n",
    "        print(f'name: {f[\"name\"]}  UUID: {remote_folder_uuid}')\n",
    "  \n",
    "if not remote_exists:\n",
    "    print(\"Remote Folder does not exist.. creating remote folder {remote_folder_name}\")\n",
    "    remote_folder_uuid = files_api.create_folder(name = remote_folder_name,\n",
    "                                        space_id = workspace_id,\n",
    "                                        path = ',',\n",
    "                                        metadata = None)\n",
    "\n",
    "    # Get the file/folder list from the project listed in the previous code [Optional]\n",
    "    # This part is optional but probably necessary in real life to sanity check that the\n",
    "    # requested directory was created.\n",
    "    workspace_folder_list = files_api.get_from_location(space_id=workspace_id,\n",
    "                                                        path=',',\n",
    "                                                        file_type=ht.api.files.FilesAPI.FileType.FILES_AND_FOLDERS)\n",
    "\n",
    "    # Print the list of folders/files inside the project of interest [Optional]\n",
    "    for wf in workspace_folder_list:\n",
    "        print(wf)"
   ]
  },
  {
   "attachments": {},
   "cell_type": "markdown",
   "metadata": {},
   "source": [
    "## Uploading Data Files with MetaData ##\n",
    "\n",
    "We are going to upload a data file with Meta-Data extracted from a given Data file using a give template."
   ]
  },
  {
   "cell_type": "code",
   "execution_count": 14,
   "metadata": {},
   "outputs": [
    {
     "name": "stdout",
     "output_type": "stream",
     "text": [
      "Slice_1.ang: b55925f5-dfc3-46ac-9535-30e736eed814\n",
      "Upload completed\n"
     ]
    }
   ],
   "source": [
    "# Extract the Meta-Data from the Template/Model\n",
    "missing_entries = []\n",
    "metadata = metaforge.utilities.ht_utilities.ezmodel_to_ht_metadata(model=model, missing_entries=missing_entries, metadata_file_chosen=True)\n",
    "\n",
    "# Pick your data files to upload\n",
    "filelist = f'{data_prefix}DREAM3D_Data/Data/SmallIN100/Slice_1.ang'\n",
    "\n",
    "# Perform the upload.\n",
    "remote_folder_id_path = files_api.get_id_path(space_id=workspace_id,\n",
    "                                              path='/' + remote_folder_name)\n",
    "\n",
    "file_id, file_name = files_api.upload(local_path=filelist,\n",
    "                                      space_id=workspace_id,\n",
    "                                      path=remote_folder_id_path,\n",
    "                                      metadata=metadata)\n",
    "print(f'{file_name}: {file_id}')\n",
    "print(\"Upload completed\")"
   ]
  }
 ],
 "metadata": {
  "kernelspec": {
   "display_name": "metaforge",
   "language": "python",
   "name": "python3"
  },
  "language_info": {
   "codemirror_mode": {
    "name": "ipython",
    "version": 3
   },
   "file_extension": ".py",
   "mimetype": "text/x-python",
   "name": "python",
   "nbconvert_exporter": "python",
   "pygments_lexer": "ipython3",
   "version": "3.8.16"
  },
  "orig_nbformat": 4,
  "vscode": {
   "interpreter": {
    "hash": "12b51ec3434dceed89fed924fa8f2c194bb59f2160564b5d4e572711e0a340d5"
   }
  }
 },
 "nbformat": 4,
 "nbformat_minor": 2
}
